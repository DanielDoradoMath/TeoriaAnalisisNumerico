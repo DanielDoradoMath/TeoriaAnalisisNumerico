{
  "nbformat": 4,
  "nbformat_minor": 0,
  "metadata": {
    "colab": {
      "name": "Análisis Numerico 01.ipynb",
      "provenance": [],
      "collapsed_sections": []
    },
    "kernelspec": {
      "name": "python3",
      "display_name": "Python 3"
    },
    "language_info": {
      "name": "python"
    }
  },
  "cells": [
    {
      "cell_type": "code",
      "metadata": {
        "id": "-SLcLdjykuc8"
      },
      "source": [
        "import numpy as np\n",
        "import matplotlib.pyplot as plt\n",
        "import math"
      ],
      "execution_count": null,
      "outputs": []
    },
    {
      "cell_type": "code",
      "metadata": {
        "id": "SgPed4xumAnk"
      },
      "source": [
        "def puntosInterpolacion (a,b,n,x, metodo=1):\n",
        "  arrPuntos=[]\n",
        "\n",
        "  if metodo==0:\n",
        "      punto=a\n",
        "      for i in range(n):\n",
        "          arrPuntos.append(punto)\n",
        "          punto+=((b - a) / n)\n",
        "  elif metodo==1:\n",
        "      punto = 0\n",
        "      for i in range(n):\n",
        "          punto = np.cos(((2*i+1)*np.pi)/(2*n))\n",
        "          punto = ((b-a)*punto+a+b)/2\n",
        "          arrPuntos.append(punto)\n",
        "  else:\n",
        "      print(\"método no valido\")\n",
        "\n",
        "  return(arrPuntos)"
      ],
      "execution_count": null,
      "outputs": []
    },
    {
      "cell_type": "code",
      "metadata": {
        "id": "kwuL-w0boBSH"
      },
      "source": [
        "def interpolacionprueba(f,a,b,n,x,metodo=1):\n",
        "  arreglo=puntosInterpolacion(a,b,n,x,metodo)\n",
        "  total=0\n",
        "  for i in range(len(arreglo)):\n",
        "    multiplicacion=1\n",
        "    for j in range(len(arreglo)):\n",
        "      if j!=i:\n",
        "        multiplicacion*=(x-arreglo[j])/(arreglo[i]-arreglo[j])\n",
        "    total+=f(arreglo[i])*multiplicacion\n",
        "  return(total)\n",
        "\n",
        "\n",
        "\n"
      ],
      "execution_count": null,
      "outputs": []
    },
    {
      "cell_type": "code",
      "metadata": {
        "id": "aBaJBBOytMn3"
      },
      "source": [
        ""
      ],
      "execution_count": null,
      "outputs": []
    },
    {
      "cell_type": "code",
      "metadata": {
        "colab": {
          "base_uri": "https://localhost:8080/"
        },
        "id": "k1-HrEpMqB6R",
        "outputId": "6fea49b6-3f80-4cc3-a40f-ba8a271267ef"
      },
      "source": [
        "def f(x):\n",
        "  return np.exp(x)\n",
        "\n",
        "print(interpolacion(f,5,10,10,5.12))\n"
      ],
      "execution_count": null,
      "outputs": [
        {
          "output_type": "stream",
          "text": [
            "Punto evaluado (x): 5.12\n",
            " Valor de la función f(x): 167.335370\n",
            " Resultado de interpolación equidistantes: 167.32711285255405\n",
            " Resultado de interpolación Chebyshev: 170.0\n",
            " Error de interpolación equidistantes: 0.00825676855004076\n",
            " Error de interpolación Chebyshev: 2.6646303788959074\n",
            "\n"
          ],
          "name": "stdout"
        }
      ]
    },
    {
      "cell_type": "code",
      "metadata": {
        "id": "JMOyAFu-m_-N"
      },
      "source": [
        "def interpolacion (f,a,b,n,x):\n",
        "  equi = puntosInterpolacion(a,b,n,x,0) # Arreglo de puntos de interpolación equidistantes\n",
        "  chebyshev = puntosInterpolacion(a,b,n,x,1) # Arreglo de puntos de interpolación con los puntos de Chebyshev\n",
        "  res_e = 0 # Resultado de interpolación con puntos equidistantes \n",
        "  res_c = 0 # Resultado de interpolación con puntos de Chebyshev\n",
        "  \n",
        "  for i in range(len(equi)):\n",
        "    prod_e = 1 # Producto para los puntos equidistantes\n",
        "    prod_c = 1 # Producto para los puntos de Chebyshev\n",
        "    for j in range(len(equi)):\n",
        "      if j!=i:\n",
        "        prod_e*=(x-equi[j])/(equi[i]-equi[j])\n",
        "        prod_c*=(x-chebyshev[j])/(chebyshev[i]-chebyshev[j])\n",
        "    res_e+=f(equi[i])*prod_e\n",
        "    res_c+=f(chebyshev[i])*prod_c\n",
        "  err_e = np.abs(res_e-f(x))\n",
        "  err_c = np.abs(res_c-f(x))\n",
        "  \n",
        "  return('Punto evaluado (x): {}\\n Valor de la función f(x): {:.6f}\\n Resultado de interpolación equidistantes: {}\\n Resultado de interpolación Chebyshev: {}\\n Error de interpolación equidistantes: {}\\n Error de interpolación Chebyshev: {}\\n'.format(x,f(x),res_e,res_c,err_e,err_c))"
      ],
      "execution_count": null,
      "outputs": []
    },
    {
      "cell_type": "code",
      "metadata": {
        "id": "af9gQe-txYfn"
      },
      "source": [
        ""
      ],
      "execution_count": null,
      "outputs": []
    }
  ]
}